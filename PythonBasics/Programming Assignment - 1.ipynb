{
 "cells": [
  {
   "cell_type": "markdown",
   "id": "c6903244",
   "metadata": {},
   "source": [
    "**Write a Python program to print \"Hello Python\"?**"
   ]
  },
  {
   "cell_type": "code",
   "execution_count": 1,
   "id": "af2c7f0a",
   "metadata": {},
   "outputs": [
    {
     "name": "stdout",
     "output_type": "stream",
     "text": [
      "Hello Python\n"
     ]
    }
   ],
   "source": [
    "print('Hello Python')"
   ]
  },
  {
   "cell_type": "markdown",
   "id": "6c7cea0b",
   "metadata": {},
   "source": [
    "**2. Write a Python program to do arithmetical operations addition and division.?**"
   ]
  },
  {
   "cell_type": "code",
   "execution_count": null,
   "id": "3cb006ee",
   "metadata": {},
   "outputs": [],
   "source": []
  },
  {
   "cell_type": "markdown",
   "id": "352afc2a",
   "metadata": {},
   "source": [
    "**3. Write a Python program to find the area of a triangle?**"
   ]
  },
  {
   "cell_type": "code",
   "execution_count": null,
   "id": "a24b6c19",
   "metadata": {},
   "outputs": [],
   "source": []
  },
  {
   "cell_type": "markdown",
   "id": "123794f9",
   "metadata": {},
   "source": [
    "**4. Write a Python program to swap two variables?**"
   ]
  },
  {
   "cell_type": "code",
   "execution_count": 2,
   "id": "c76e1eca",
   "metadata": {},
   "outputs": [
    {
     "data": {
      "text/plain": [
       "(6, 5)"
      ]
     },
     "execution_count": 2,
     "metadata": {},
     "output_type": "execute_result"
    }
   ],
   "source": [
    "def swap(a,b):\n",
    "    return b,a\n",
    "\n",
    "swap(5,6)"
   ]
  },
  {
   "cell_type": "markdown",
   "id": "27200b3f",
   "metadata": {},
   "source": [
    "**5. Write a Python program to generate a random number?**"
   ]
  },
  {
   "cell_type": "code",
   "execution_count": 14,
   "id": "33990e90",
   "metadata": {},
   "outputs": [
    {
     "name": "stdout",
     "output_type": "stream",
     "text": [
      "Random number generated with default value is 0\n",
      "Random number generated between 101 and 200 is 147\n"
     ]
    }
   ],
   "source": [
    "import random\n",
    "def get_random(a = 0, b = 9):\n",
    "    \"\"\"\n",
    "    This will generate a random number between a and b\n",
    "    If a and b are not passed then it will generate a number between 0 and 9\n",
    "    \"\"\"\n",
    "    return random.randint(a,b)\n",
    "\n",
    "print('Random number generated with default paramter is {}'.format(get_random()))\n",
    "print('Random number generated between 101 and 200 is {}'.format(get_random(101,200)))"
   ]
  }
 ],
 "metadata": {
  "kernelspec": {
   "display_name": "Python 3 (ipykernel)",
   "language": "python",
   "name": "python3"
  },
  "language_info": {
   "codemirror_mode": {
    "name": "ipython",
    "version": 3
   },
   "file_extension": ".py",
   "mimetype": "text/x-python",
   "name": "python",
   "nbconvert_exporter": "python",
   "pygments_lexer": "ipython3",
   "version": "3.9.7"
  }
 },
 "nbformat": 4,
 "nbformat_minor": 5
}
