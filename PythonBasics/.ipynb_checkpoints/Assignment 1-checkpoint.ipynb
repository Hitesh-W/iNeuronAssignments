{
 "cells": [
  {
   "cell_type": "markdown",
   "id": "1ce21e18",
   "metadata": {},
   "source": [
    "**1. In the below elements which of them are values or an expression? eg:- values can be integer or string and expressions will be mathematical operators.**"
   ]
  },
  {
   "cell_type": "code",
   "execution_count": null,
   "id": "915420b5",
   "metadata": {},
   "outputs": [],
   "source": [
    "*       - Expression\n",
    "'hello' – Value \n",
    "-87.8   - Value\n",
    "-       - Expression\n",
    "/       - Expression\n",
    "+  \t    - Expression\n",
    "6       - Value"
   ]
  },
  {
   "cell_type": "markdown",
   "id": "c76ea335",
   "metadata": {},
   "source": [
    "**2. What is the difference between string and variable?**"
   ]
  },
  {
   "cell_type": "markdown",
   "id": "8232a1d6",
   "metadata": {},
   "source": [
    "Variable: It can hold data of different data types such as string, int, list etc\n",
    "String  : It is of the possible data type for value"
   ]
  },
  {
   "cell_type": "markdown",
   "id": "f01a6ab3",
   "metadata": {},
   "source": [
    "**3. Describe three different data types.**"
   ]
  },
  {
   "cell_type": "code",
   "execution_count": null,
   "id": "ba3d55df",
   "metadata": {},
   "outputs": [],
   "source": []
  },
  {
   "cell_type": "markdown",
   "id": "72d2e342",
   "metadata": {},
   "source": [
    "**4. What is an expression made up of? What do all expressions do?**"
   ]
  },
  {
   "cell_type": "markdown",
   "id": "0ec6a5b6",
   "metadata": {},
   "source": [
    "**5. This assignment statements, like spam = 10. What is the difference between an expression and a statement?**"
   ]
  },
  {
   "cell_type": "markdown",
   "id": "dd546ee1",
   "metadata": {},
   "source": [
    "**6. After running the following code, what does the variable bacon contain?**\n",
    "\n",
    "bacon = 22\n",
    "\n",
    "bacon + 1"
   ]
  },
  {
   "cell_type": "code",
   "execution_count": 8,
   "id": "d8c7e82a",
   "metadata": {},
   "outputs": [
    {
     "data": {
      "text/plain": [
       "22"
      ]
     },
     "execution_count": 8,
     "metadata": {},
     "output_type": "execute_result"
    }
   ],
   "source": [
    "bacon = 22\n",
    "bacon + 1\n",
    "bacon"
   ]
  },
  {
   "cell_type": "markdown",
   "id": "6e935647",
   "metadata": {},
   "source": [
    "**7. What should the values of the following two terms be?**\n",
    "\n",
    "**'spam' + 'spamspam'**\n",
    "\n",
    "**'spam' * 3**"
   ]
  },
  {
   "cell_type": "code",
   "execution_count": 29,
   "id": "4841fe13",
   "metadata": {},
   "outputs": [
    {
     "name": "stdout",
     "output_type": "stream",
     "text": [
      "Output of term 1 is spamspamspam\n",
      "Output of term 2 is spamspamspam\n",
      "Output of both the terms is same\n"
     ]
    }
   ],
   "source": [
    "print('Output of term 1 is ' + 'spam' + 'spamspam')\n",
    "print('Output of term 2 is ' + 'spam' * 3)\n",
    "print('Output of both the terms is same')"
   ]
  },
  {
   "cell_type": "markdown",
   "id": "55ff6fb4",
   "metadata": {},
   "source": [
    "**8. Why is eggs a valid variable name while 100 is invalid?**"
   ]
  },
  {
   "cell_type": "markdown",
   "id": "94f91bbb",
   "metadata": {},
   "source": [
    "*As per the naming conventions for a variable in python a variable can either start with a character or _*\n",
    "\n",
    "**eggs -** valid as it is starting with character\n",
    "\n",
    "**100 -** invalid as it is starting with number"
   ]
  },
  {
   "cell_type": "markdown",
   "id": "ff09fe83",
   "metadata": {},
   "source": [
    "**9. What three functions can be used to get the integer, floating-point number, or string version of a value?**"
   ]
  },
  {
   "cell_type": "code",
   "execution_count": 22,
   "id": "7c45bdc4",
   "metadata": {},
   "outputs": [
    {
     "name": "stdout",
     "output_type": "stream",
     "text": [
      "<class 'int'>\n",
      "<class 'float'>\n",
      "<class 'str'>\n"
     ]
    }
   ],
   "source": [
    "## Can be done using int(), float() and string()\n",
    "\n",
    "input = 100.43\n",
    "int_ver = int(input)\n",
    "float_ver = float(input)\n",
    "str_ver = str(input)\n",
    "print(type(int_ver))\n",
    "print(type(float_ver))\n",
    "print(type(str_ver))"
   ]
  },
  {
   "cell_type": "markdown",
   "id": "517f6e53",
   "metadata": {},
   "source": [
    "**10. Why does this expression cause an error? How can you fix it?**\n",
    "\n",
    "*'I have eaten ' + 99 + ' burritos.*"
   ]
  },
  {
   "cell_type": "code",
   "execution_count": 14,
   "id": "60d06367",
   "metadata": {},
   "outputs": [
    {
     "ename": "TypeError",
     "evalue": "can only concatenate str (not \"int\") to str",
     "output_type": "error",
     "traceback": [
      "\u001b[1;31m---------------------------------------------------------------------------\u001b[0m",
      "\u001b[1;31mTypeError\u001b[0m                                 Traceback (most recent call last)",
      "\u001b[1;32m~\\AppData\\Local\\Temp/ipykernel_5608/3845250897.py\u001b[0m in \u001b[0;36m<module>\u001b[1;34m\u001b[0m\n\u001b[0;32m      1\u001b[0m \u001b[1;31m# With error\u001b[0m\u001b[1;33m\u001b[0m\u001b[1;33m\u001b[0m\u001b[0m\n\u001b[0;32m      2\u001b[0m \u001b[1;31m# As 99 is int data type here we are getting error. We can only concatenate str values\u001b[0m\u001b[1;33m\u001b[0m\u001b[1;33m\u001b[0m\u001b[0m\n\u001b[1;32m----> 3\u001b[1;33m \u001b[1;34m'I have eaten '\u001b[0m \u001b[1;33m+\u001b[0m \u001b[1;36m99\u001b[0m \u001b[1;33m+\u001b[0m \u001b[1;34m' burritos.'\u001b[0m\u001b[1;33m\u001b[0m\u001b[1;33m\u001b[0m\u001b[0m\n\u001b[0m",
      "\u001b[1;31mTypeError\u001b[0m: can only concatenate str (not \"int\") to str"
     ]
    }
   ],
   "source": [
    "# With error\n",
    "# As 99 is int data type here we are getting error. We can only concatenate str values\n",
    "'I have eaten ' + 99 + ' burritos.'"
   ]
  },
  {
   "cell_type": "code",
   "execution_count": 15,
   "id": "aa9659e3",
   "metadata": {},
   "outputs": [
    {
     "data": {
      "text/plain": [
       "'I have eaten 99 burritos.'"
      ]
     },
     "execution_count": 15,
     "metadata": {},
     "output_type": "execute_result"
    }
   ],
   "source": [
    "## Correction Version\n",
    "'I have eaten ' + str(99) + ' burritos.'"
   ]
  }
 ],
 "metadata": {
  "kernelspec": {
   "display_name": "Python 3 (ipykernel)",
   "language": "python",
   "name": "python3"
  },
  "language_info": {
   "codemirror_mode": {
    "name": "ipython",
    "version": 3
   },
   "file_extension": ".py",
   "mimetype": "text/x-python",
   "name": "python",
   "nbconvert_exporter": "python",
   "pygments_lexer": "ipython3",
   "version": "3.9.7"
  }
 },
 "nbformat": 4,
 "nbformat_minor": 5
}
